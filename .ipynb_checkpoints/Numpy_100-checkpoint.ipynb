{
 "cells": [
  {
   "cell_type": "code",
   "execution_count": 1,
   "id": "9a38c8b5-28cb-4f76-abc3-c352569df7e1",
   "metadata": {},
   "outputs": [
    {
     "name": "stdout",
     "output_type": "stream",
     "text": [
      "Requirement already satisfied: numpy in c:\\users\\ankush ghosh\\appdata\\local\\programs\\python\\python313\\lib\\site-packages (2.2.3)\n"
     ]
    }
   ],
   "source": [
    "!pip install numpy --upgrade"
   ]
  },
  {
   "cell_type": "markdown",
   "id": "5d4bfafe-64ac-4048-a79d-d323a165c637",
   "metadata": {},
   "source": [
    "1. Import the numpy package under the name np"
   ]
  },
  {
   "cell_type": "code",
   "execution_count": 2,
   "id": "71e7bb9d-6ef0-45fd-a43a-7a64748ed41a",
   "metadata": {},
   "outputs": [],
   "source": [
    "import numpy as np\n",
    "import math"
   ]
  },
  {
   "cell_type": "markdown",
   "id": "6d6a6973-02d9-44f8-88bd-b27043d3de42",
   "metadata": {},
   "source": [
    "2. Print the numpy version and the configuration (★☆☆)"
   ]
  },
  {
   "cell_type": "code",
   "execution_count": 10,
   "id": "05836ee8-6e6d-40ef-9f57-29a27e5bceec",
   "metadata": {},
   "outputs": [
    {
     "name": "stdout",
     "output_type": "stream",
     "text": [
      "2.2.3\n"
     ]
    }
   ],
   "source": [
    "print(np.__version__)\n"
   ]
  },
  {
   "cell_type": "markdown",
   "id": "ebbdb8b7-99b6-49e2-9740-abce267c9fa4",
   "metadata": {},
   "source": [
    "3. Create a null vector of size 10 (★☆☆)"
   ]
  },
  {
   "cell_type": "code",
   "execution_count": 11,
   "id": "b9c368fd-5133-4bf7-8223-c2e6c48aecb1",
   "metadata": {},
   "outputs": [
    {
     "data": {
      "text/plain": [
       "array([0., 0., 0., 0., 0., 0., 0., 0., 0., 0.])"
      ]
     },
     "execution_count": 11,
     "metadata": {},
     "output_type": "execute_result"
    }
   ],
   "source": [
    "np.zeros(10)"
   ]
  },
  {
   "cell_type": "markdown",
   "id": "f5c93511-d833-466c-8d87-23e2d08da9f7",
   "metadata": {},
   "source": [
    "4. How to find the memory size of any array (★☆☆)"
   ]
  },
  {
   "cell_type": "code",
   "execution_count": 12,
   "id": "85a757a8-1862-4d87-b2b7-770b71eef30d",
   "metadata": {},
   "outputs": [
    {
     "data": {
      "text/plain": [
       "(10,)"
      ]
     },
     "execution_count": 12,
     "metadata": {},
     "output_type": "execute_result"
    }
   ],
   "source": [
    "np.zeros(10).shape"
   ]
  },
  {
   "cell_type": "markdown",
   "id": "618d5eac-cab3-412d-8f08-095e7d9427e5",
   "metadata": {},
   "source": [
    "5. How to get the documentation of the numpy add function from the command line? (★☆☆)"
   ]
  },
  {
   "cell_type": "code",
   "execution_count": 15,
   "id": "3487eee1-f886-41cb-87fc-a7c05357af84",
   "metadata": {},
   "outputs": [
    {
     "name": "stdout",
     "output_type": "stream",
     "text": [
      "Help on ufunc in module numpy:\n",
      "\n",
      "add = <ufunc 'add'>\n",
      "    add(x1, x2, /, out=None, *, where=True, casting='same_kind', order='K', dtype=None, subok=True[, signature])\n",
      "\n",
      "    Add arguments element-wise.\n",
      "\n",
      "    Parameters\n",
      "    ----------\n",
      "    x1, x2 : array_like\n",
      "        The arrays to be added.\n",
      "        If ``x1.shape != x2.shape``, they must be broadcastable to a common\n",
      "        shape (which becomes the shape of the output).\n",
      "    out : ndarray, None, or tuple of ndarray and None, optional\n",
      "        A location into which the result is stored. If provided, it must have\n",
      "        a shape that the inputs broadcast to. If not provided or None,\n",
      "        a freshly-allocated array is returned. A tuple (possible only as a\n",
      "        keyword argument) must have length equal to the number of outputs.\n",
      "    where : array_like, optional\n",
      "        This condition is broadcast over the input. At locations where the\n",
      "        condition is True, the `out` array will be set to the ufunc result.\n",
      "        Elsewhere, the `out` array will retain its original value.\n",
      "        Note that if an uninitialized `out` array is created via the default\n",
      "        ``out=None``, locations within it where the condition is False will\n",
      "        remain uninitialized.\n",
      "    **kwargs\n",
      "        For other keyword-only arguments, see the\n",
      "        :ref:`ufunc docs <ufuncs.kwargs>`.\n",
      "\n",
      "    Returns\n",
      "    -------\n",
      "    add : ndarray or scalar\n",
      "        The sum of `x1` and `x2`, element-wise.\n",
      "        This is a scalar if both `x1` and `x2` are scalars.\n",
      "\n",
      "    Notes\n",
      "    -----\n",
      "    Equivalent to `x1` + `x2` in terms of array broadcasting.\n",
      "\n",
      "    Examples\n",
      "    --------\n",
      "    >>> import numpy as np\n",
      "    >>> np.add(1.0, 4.0)\n",
      "    5.0\n",
      "    >>> x1 = np.arange(9.0).reshape((3, 3))\n",
      "    >>> x2 = np.arange(3.0)\n",
      "    >>> np.add(x1, x2)\n",
      "    array([[  0.,   2.,   4.],\n",
      "           [  3.,   5.,   7.],\n",
      "           [  6.,   8.,  10.]])\n",
      "\n",
      "    The ``+`` operator can be used as a shorthand for ``np.add`` on ndarrays.\n",
      "\n",
      "    >>> x1 = np.arange(9.0).reshape((3, 3))\n",
      "    >>> x2 = np.arange(3.0)\n",
      "    >>> x1 + x2\n",
      "    array([[ 0.,  2.,  4.],\n",
      "           [ 3.,  5.,  7.],\n",
      "           [ 6.,  8., 10.]])\n",
      "\n"
     ]
    }
   ],
   "source": [
    "help(np.add)"
   ]
  },
  {
   "cell_type": "markdown",
   "id": "99334283-224e-4996-974b-25744de9da47",
   "metadata": {},
   "source": [
    "6. Create a null vector of size 10 but the fifth value which is 1 (★☆☆)"
   ]
  },
  {
   "cell_type": "code",
   "execution_count": 16,
   "id": "2a0856b5-107b-49a6-b94c-a7e2d340c988",
   "metadata": {},
   "outputs": [
    {
     "name": "stdout",
     "output_type": "stream",
     "text": [
      "[0. 0. 0. 0. 1. 0. 0. 0. 0. 0.]\n"
     ]
    }
   ],
   "source": [
    "arr1 = np.zeros(10);\n",
    "arr1[4] = 1;\n",
    "print(arr1)"
   ]
  },
  {
   "cell_type": "markdown",
   "id": "16f6a2b2-fc62-46cb-b9c5-3b744876e265",
   "metadata": {},
   "source": [
    "7. Create a vector with values ranging from 10 to 49 (★☆☆)"
   ]
  },
  {
   "cell_type": "code",
   "execution_count": 17,
   "id": "0e66952e-925d-43d6-b50e-62d847981fdb",
   "metadata": {},
   "outputs": [
    {
     "name": "stdout",
     "output_type": "stream",
     "text": [
      "[10 11 12 13 14 15 16 17 18 19 20 21 22 23 24 25 26 27 28 29 30 31 32 33\n",
      " 34 35 36 37 38 39 40 41 42 43 44 45 46 47 48 49]\n"
     ]
    }
   ],
   "source": [
    "arr2 = np.arange(10,50)\n",
    "print(arr2)"
   ]
  },
  {
   "cell_type": "code",
   "execution_count": 26,
   "id": "85e45700-07c7-43e9-a398-0566f09efdf2",
   "metadata": {},
   "outputs": [
    {
     "data": {
      "text/plain": [
       "array([49, 48, 47, 46, 45, 44, 43, 42, 41, 40, 39, 38, 37, 36, 35, 34, 33,\n",
       "       32, 31, 30, 29, 28, 27, 26, 25, 24, 23, 22, 21, 20, 19, 18, 17, 16,\n",
       "       15, 14, 13, 12, 11, 10])"
      ]
     },
     "execution_count": 26,
     "metadata": {},
     "output_type": "execute_result"
    }
   ],
   "source": [
    "np.flip(arr2)"
   ]
  },
  {
   "cell_type": "markdown",
   "id": "b586c7ff-d80d-4266-a8a4-8da639414007",
   "metadata": {},
   "source": [
    "9. Create a 3x3 matrix with values ranging from 0 to 8 (★☆☆)"
   ]
  },
  {
   "cell_type": "code",
   "execution_count": 28,
   "id": "201cf191-d8c7-4ad4-b9cf-e5a84f665c6e",
   "metadata": {},
   "outputs": [
    {
     "data": {
      "text/plain": [
       "array([[0, 1, 2],\n",
       "       [3, 4, 5],\n",
       "       [6, 7, 8]])"
      ]
     },
     "execution_count": 28,
     "metadata": {},
     "output_type": "execute_result"
    }
   ],
   "source": [
    "np.arange(0,9).reshape(3,3)"
   ]
  },
  {
   "cell_type": "markdown",
   "id": "8dec26d7-5132-447b-9fa9-3f2b89918488",
   "metadata": {},
   "source": [
    "10. Find indices of non-zero elements from [1,2,0,0,4,0] (★☆☆)"
   ]
  },
  {
   "cell_type": "code",
   "execution_count": 36,
   "id": "bf856aeb-efb9-4073-9d65-75a852e9f2f7",
   "metadata": {},
   "outputs": [
    {
     "name": "stdout",
     "output_type": "stream",
     "text": [
      "Non-zero element : 0\n",
      "Non-zero element : 1\n",
      "Non-zero element : 4\n"
     ]
    }
   ],
   "source": [
    "arr = [1,2,0,0,4,0]\n",
    "for index,i in enumerate(arr):\n",
    "    if(i != 0):\n",
    "        print(\"Non-zero element :\" ,index)\n",
    "    i += 1"
   ]
  },
  {
   "cell_type": "code",
   "execution_count": 38,
   "id": "6c864604-5d19-40d8-8313-c14580e0db5c",
   "metadata": {},
   "outputs": [
    {
     "data": {
      "text/plain": [
       "(array([0, 1, 4]),)"
      ]
     },
     "execution_count": 38,
     "metadata": {},
     "output_type": "execute_result"
    }
   ],
   "source": [
    "## Another method\n",
    "np.nonzero(arr)"
   ]
  },
  {
   "cell_type": "markdown",
   "id": "b1e2ee30-290f-4393-b351-f5658d51005e",
   "metadata": {},
   "source": [
    "11. Create a 3x3 identity matrix (★☆☆)"
   ]
  },
  {
   "cell_type": "code",
   "execution_count": 40,
   "id": "2b24fe1f-3db2-4bf9-a9ba-f78d3ab716d2",
   "metadata": {},
   "outputs": [
    {
     "name": "stdout",
     "output_type": "stream",
     "text": [
      "[[1. 0. 0.]\n",
      " [0. 1. 0.]\n",
      " [0. 0. 1.]]\n"
     ]
    }
   ],
   "source": [
    "arr3 = np.eye(3)\n",
    "print(arr3)"
   ]
  },
  {
   "cell_type": "markdown",
   "id": "d707b299-88b9-4eba-98a2-2dd533c831aa",
   "metadata": {},
   "source": [
    "12. Create a 3x3x3 array with random values (★☆☆)"
   ]
  },
  {
   "cell_type": "code",
   "execution_count": 42,
   "id": "ef8e3080-0943-4161-bb2d-ae9cd1c55535",
   "metadata": {},
   "outputs": [
    {
     "name": "stdout",
     "output_type": "stream",
     "text": [
      "[[[0.81513944 0.59889927 0.8190973 ]\n",
      "  [0.91058771 0.83331536 0.98365142]\n",
      "  [0.01769431 0.99984276 0.04154518]]\n",
      "\n",
      " [[0.23569484 0.73541394 0.6553823 ]\n",
      "  [0.54514908 0.766754   0.52386723]\n",
      "  [0.26265812 0.34991973 0.75082292]]\n",
      "\n",
      " [[0.68975533 0.0868439  0.43266231]\n",
      "  [0.98811629 0.18230663 0.73620283]\n",
      "  [0.07874734 0.31234762 0.85341584]]]\n"
     ]
    }
   ],
   "source": [
    "arr4 = np.random.rand(27).reshape(3,3,3)\n",
    "print(arr4)"
   ]
  },
  {
   "cell_type": "markdown",
   "id": "55e57961-18c5-4b25-9e4b-c2ec720c19c3",
   "metadata": {},
   "source": [
    "13. Create a 10x10 array with random values and find the minimum and maximum values (★☆☆)"
   ]
  },
  {
   "cell_type": "code",
   "execution_count": 23,
   "id": "707b2c8a-5998-4657-9b15-d47b8f12fbc2",
   "metadata": {},
   "outputs": [
    {
     "name": "stdout",
     "output_type": "stream",
     "text": [
      "[[ 1 53 19 65 16 59 98 31 29 66]\n",
      " [55 82 25  8 66 11 66 91 30 94]\n",
      " [10 65 22 91 30 61 49 23 39 99]\n",
      " [58 94 96 50 71 91 82 36 16 76]\n",
      " [77 18 55 39 55 80  2 62 72 64]\n",
      " [60 25 64 81 86 94 39 30 73 82]\n",
      " [46  6 42 92 20  4 12 56  9  7]\n",
      " [93 34 62 58 17 15 17 12 31 79]\n",
      " [95 35 86 60 78 59 91 45 44 98]\n",
      " [90 45 22 87  1 70 16 26 14 31]]\n",
      "The maximum is : 99\n",
      "The maximum is : 1\n"
     ]
    }
   ],
   "source": [
    "arr5 = np.random.randint(0,101,size=100).reshape(10,10)\n",
    "print(arr5)\n",
    "print(\"The maximum is :\",np.max(arr5))\n",
    "print(\"The maximum is :\",np.min(arr5))"
   ]
  },
  {
   "cell_type": "markdown",
   "id": "cf1eec45-d01c-4da1-9131-da5203cb4d22",
   "metadata": {},
   "source": [
    "14. Create a random vector of size 30 and find the mean value (★☆☆)"
   ]
  },
  {
   "cell_type": "code",
   "execution_count": 30,
   "id": "6f6a165e-fcdb-4734-bcec-2bad1396c617",
   "metadata": {},
   "outputs": [
    {
     "name": "stdout",
     "output_type": "stream",
     "text": [
      "[311  74 708 942 954 538 882 475 525 481 279 465 260 185 162 881 191 829\n",
      " 347 518 784 976 668 755  71 165  93 139 685 876]\n",
      "507.3\n"
     ]
    }
   ],
   "source": [
    "arr6 = np.random.randint(0,1000,size=30)\n",
    "print(arr6)\n",
    "print(arr6.mean())"
   ]
  },
  {
   "cell_type": "markdown",
   "id": "a260e425-4262-46e3-8c21-62450344dc65",
   "metadata": {},
   "source": [
    "15. Create a 2d array with 1 on the border and 0 inside (★☆☆)"
   ]
  },
  {
   "cell_type": "code",
   "execution_count": 14,
   "id": "1ec2b9dd-f66a-4090-9573-1ba4cd0a8db3",
   "metadata": {},
   "outputs": [
    {
     "name": "stdout",
     "output_type": "stream",
     "text": [
      "[[1. 1. 1. 1. 1.]\n",
      " [1. 0. 0. 0. 1.]\n",
      " [1. 0. 0. 0. 1.]\n",
      " [1. 0. 0. 0. 1.]\n",
      " [1. 1. 1. 1. 1.]]\n"
     ]
    }
   ],
   "source": [
    "arr7 = np.zeros(25).reshape(5,5)\n",
    "arr7[0,:] = arr7[:, 0] = arr7[-1,:] = arr7[:,-1] = 1\n",
    "print(arr7)"
   ]
  },
  {
   "cell_type": "code",
   "execution_count": 20,
   "id": "b86c04ec-e85f-4f82-a02d-f3764e7defe2",
   "metadata": {},
   "outputs": [
    {
     "name": "stdout",
     "output_type": "stream",
     "text": [
      "[[1. 1. 1. 1. 1. 1. 1. 1. 1.]\n",
      " [1. 1. 1. 1. 1. 1. 1. 1. 1.]\n",
      " [1. 1. 0. 0. 0. 0. 0. 1. 1.]\n",
      " [1. 1. 0. 0. 0. 0. 0. 1. 1.]\n",
      " [1. 1. 0. 0. 0. 0. 0. 1. 1.]\n",
      " [1. 1. 0. 0. 0. 0. 0. 1. 1.]\n",
      " [1. 1. 0. 0. 0. 0. 0. 1. 1.]\n",
      " [1. 1. 1. 1. 1. 1. 1. 1. 1.]\n",
      " [1. 1. 1. 1. 1. 1. 1. 1. 1.]]\n"
     ]
    }
   ],
   "source": [
    "### Another way\n",
    "arr8 = np.zeros(25).reshape(5,5)\n",
    "arr8_padded = np.pad(arr8 , pad_width= 2, mode='constant',constant_values = 1)\n",
    "print(arr8_padded)"
   ]
  },
  {
   "cell_type": "markdown",
   "id": "ae2f051c-a45c-48ce-ad55-e90aee48742e",
   "metadata": {},
   "source": [
    "16. How to add a border (filled with 0's) around an existing array? (★☆☆)"
   ]
  },
  {
   "cell_type": "code",
   "execution_count": 21,
   "id": "6adeaa82-9f5f-46bb-9845-d89c0d878b46",
   "metadata": {},
   "outputs": [
    {
     "name": "stdout",
     "output_type": "stream",
     "text": [
      "[[0. 0. 0. 0. 0. 0. 0. 0. 0.]\n",
      " [0. 0. 0. 0. 0. 0. 0. 0. 0.]\n",
      " [0. 0. 1. 1. 1. 1. 1. 0. 0.]\n",
      " [0. 0. 1. 1. 1. 1. 1. 0. 0.]\n",
      " [0. 0. 1. 1. 1. 1. 1. 0. 0.]\n",
      " [0. 0. 1. 1. 1. 1. 1. 0. 0.]\n",
      " [0. 0. 1. 1. 1. 1. 1. 0. 0.]\n",
      " [0. 0. 0. 0. 0. 0. 0. 0. 0.]\n",
      " [0. 0. 0. 0. 0. 0. 0. 0. 0.]]\n"
     ]
    }
   ],
   "source": [
    "arr8 = np.ones(25).reshape(5,5)\n",
    "arr8_padded = np.pad(arr8 , pad_width= 2, mode='constant',constant_values = 0)\n",
    "print(arr8_padded)"
   ]
  },
  {
   "cell_type": "markdown",
   "id": "5e67b1c0-10da-48ff-886b-41378f6a022f",
   "metadata": {},
   "source": [
    "#### 17. What is the result of the following expression? (★☆☆)\n",
    "```python\n",
    "0 * np.nan\n",
    "np.nan == np.nan\n",
    "np.inf > np.nan\n",
    "np.nan - np.nan\n",
    "np.nan in set([np.nan])\n",
    "0.3 == 3 * 0.1\n",
    "```"
   ]
  },
  {
   "cell_type": "markdown",
   "id": "64929343-97a6-4dce-b712-a8b05d09ee34",
   "metadata": {},
   "source": [
    "`0 * np.nan = np.nan` .Not a number\n",
    "\n",
    "`np.nan + np.nan` . Any arithmetic operation with nan , will return nan .\n",
    "\n",
    "`np.nan == np.nan` . Beacuse not a number is nothing how can be they equal\n",
    "\n",
    "`np.inf > np.nan` . Not a number is not known , so it cannot be equal , larger or \n",
    "\n",
    "`np.nan in set([np.nan])` this will return true as the set onctains only one element which is not a number .\n",
    "\n",
    "`0.3 == 3 * 0.1` This will return as false no matter what"
   ]
  },
  {
   "cell_type": "markdown",
   "id": "be8c84c3-8433-4c2b-871a-72d56e9a6761",
   "metadata": {},
   "source": [
    "18. Create a 5x5 matrix with values 1,2,3,4 just below the diagonal (★☆☆)"
   ]
  },
  {
   "cell_type": "code",
   "execution_count": 5,
   "id": "75fa37b6-82b0-46b2-813a-a4e69fb39c3a",
   "metadata": {},
   "outputs": [
    {
     "name": "stdout",
     "output_type": "stream",
     "text": [
      "[[1 0 0 0 0]\n",
      " [0 2 0 0 0]\n",
      " [0 0 3 0 0]\n",
      " [0 0 0 4 0]\n",
      " [0 0 0 0 5]]\n"
     ]
    }
   ],
   "source": [
    "diag_elements = np.array([1,2,3,4,5])\n",
    "diagonal_matrix = np.diag(diag_elements)\n",
    "print(diagonal_matrix)"
   ]
  },
  {
   "cell_type": "markdown",
   "id": "b6b771b1-920d-44c2-82a1-d453981ed9d7",
   "metadata": {},
   "source": [
    "19. Create a 8x8 matrix and fill it with a checkerboard pattern (★☆☆)"
   ]
  },
  {
   "cell_type": "code",
   "execution_count": 10,
   "id": "42e6434f-0261-43d4-8896-c1573c8585cc",
   "metadata": {},
   "outputs": [
    {
     "data": {
      "text/plain": [
       "array([[0, 1, 0, 1, 0, 1, 0, 1],\n",
       "       [1, 0, 1, 0, 1, 0, 1, 0],\n",
       "       [0, 1, 0, 1, 0, 1, 0, 1],\n",
       "       [1, 0, 1, 0, 1, 0, 1, 0],\n",
       "       [0, 1, 0, 1, 0, 1, 0, 1],\n",
       "       [1, 0, 1, 0, 1, 0, 1, 0],\n",
       "       [0, 1, 0, 1, 0, 1, 0, 1],\n",
       "       [1, 0, 1, 0, 1, 0, 1, 0]])"
      ]
     },
     "execution_count": 10,
     "metadata": {},
     "output_type": "execute_result"
    }
   ],
   "source": [
    "arr8 = np.zeros((8, 8), dtype=int)\n",
    "arr8[::2,1::2] = 1\n",
    "arr8[1::2, ::2] = 1\n",
    "arr8"
   ]
  },
  {
   "cell_type": "markdown",
   "id": "91d81d59-7926-45cc-9590-4336dd434890",
   "metadata": {},
   "source": [
    "20. Consider a (6,7,8) shape array, what is the index (x,y,z) of the 100th element?\n",
    "    \n",
    "    Ans : `arr9[5,6,7]`"
   ]
  },
  {
   "cell_type": "code",
   "execution_count": 13,
   "id": "3f93617f-91cb-461f-8af0-32a84aeae9fe",
   "metadata": {},
   "outputs": [
    {
     "name": "stdout",
     "output_type": "stream",
     "text": [
      "[[[368 385 954 611 284 576 376 879]\n",
      "  [ 16 255 903 861 953 630 720 993]\n",
      "  [720 711 630 945 538 907  15 339]\n",
      "  [654 812 576 589 785 214  48 587]\n",
      "  [ 21 380  21 297 442 115  79 951]\n",
      "  [886 245  38 677 224 594 606 426]\n",
      "  [387 600 384 293 250 596 408 757]]\n",
      "\n",
      " [[181 166 986 510 372 464 604 422]\n",
      "  [646 254 626 448 895 738 502 742]\n",
      "  [185 913 680 531 255 731 801 592]\n",
      "  [150 767 184 368 274 923 562 287]\n",
      "  [910 363 668  48 670 370 657 965]\n",
      "  [155 450 520 104 484 769 567 789]\n",
      "  [712 620 856 409 425 147  17 751]]\n",
      "\n",
      " [[657 710 163 656 123 819 358 581]\n",
      "  [ 19 697 799 234 352 291 645 677]\n",
      "  [765 576 693 287 301 284 495 332]\n",
      "  [329 594  84 306 903 799 245 843]\n",
      "  [714 928 185 373 181 572 994 317]\n",
      "  [ 13 456 426 180 473 579 284 635]\n",
      "  [692 309 169 738 910 740 502 496]]\n",
      "\n",
      " [[407 827 902 736 568 680 966  84]\n",
      "  [648 133 727 290 139 168 300 333]\n",
      "  [908 959 437 217 930 696 291 359]\n",
      "  [192 699  39 968 757 250 701 205]\n",
      "  [133  91 777  69 934 220 251  18]\n",
      "  [792 204 519 214 623 523 190 996]\n",
      "  [699 916  55 524 872  84 282 246]]\n",
      "\n",
      " [[ 24 688 160 876 742 648 254 842]\n",
      "  [886 336 793 497 366 875  41 721]\n",
      "  [ 51 414 357   9 145 706 879 358]\n",
      "  [369 774 343 130 287 682 819 629]\n",
      "  [392 801 136 396 568 642 361  86]\n",
      "  [ 76 351 655 818 882 447 223 586]\n",
      "  [421 311 690 505 316 410 585 866]]\n",
      "\n",
      " [[453 722 365 606 593 320 516  23]\n",
      "  [ 96 980 101 826 864 989 879 761]\n",
      "  [155 170 490 761 301 814 361  61]\n",
      "  [675 412 444 111 116 629 216 297]\n",
      "  [679 821 811 785 378 839 480 812]\n",
      "  [539 760 135 862 955 304 672 608]\n",
      "  [442 980 145 634 482 272 288  47]]]\n"
     ]
    },
    {
     "data": {
      "text/plain": [
       "np.int32(47)"
      ]
     },
     "execution_count": 13,
     "metadata": {},
     "output_type": "execute_result"
    }
   ],
   "source": [
    "arr9 = np.random.randint(0,1000,size=(6,7,8))\n",
    "print(arr9)\n",
    "arr9[5,6,7]"
   ]
  },
  {
   "cell_type": "code",
   "execution_count": null,
   "id": "6b6308d5-57ea-4385-9292-8528327551e0",
   "metadata": {},
   "outputs": [],
   "source": []
  }
 ],
 "metadata": {
  "kernelspec": {
   "display_name": "Python 3 (ipykernel)",
   "language": "python",
   "name": "python3"
  },
  "language_info": {
   "codemirror_mode": {
    "name": "ipython",
    "version": 3
   },
   "file_extension": ".py",
   "mimetype": "text/x-python",
   "name": "python",
   "nbconvert_exporter": "python",
   "pygments_lexer": "ipython3",
   "version": "3.13.2"
  }
 },
 "nbformat": 4,
 "nbformat_minor": 5
}
