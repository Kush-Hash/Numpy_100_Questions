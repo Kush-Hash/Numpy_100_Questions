{
 "cells": [
  {
   "cell_type": "code",
   "execution_count": 1,
   "id": "9a38c8b5-28cb-4f76-abc3-c352569df7e1",
   "metadata": {},
   "outputs": [
    {
     "name": "stdout",
     "output_type": "stream",
     "text": [
      "Requirement already satisfied: numpy in c:\\users\\ankush ghosh\\appdata\\local\\programs\\python\\python313\\lib\\site-packages (2.2.3)\n"
     ]
    }
   ],
   "source": [
    "!pip install numpy --upgrade"
   ]
  },
  {
   "cell_type": "markdown",
   "id": "5d4bfafe-64ac-4048-a79d-d323a165c637",
   "metadata": {},
   "source": [
    "1. Import the numpy package under the name np"
   ]
  },
  {
   "cell_type": "code",
   "execution_count": 2,
   "id": "71e7bb9d-6ef0-45fd-a43a-7a64748ed41a",
   "metadata": {},
   "outputs": [],
   "source": [
    "import numpy as np\n",
    "import math"
   ]
  },
  {
   "cell_type": "markdown",
   "id": "6d6a6973-02d9-44f8-88bd-b27043d3de42",
   "metadata": {},
   "source": [
    "2. Print the numpy version and the configuration (★☆☆)"
   ]
  },
  {
   "cell_type": "code",
   "execution_count": 10,
   "id": "05836ee8-6e6d-40ef-9f57-29a27e5bceec",
   "metadata": {},
   "outputs": [
    {
     "name": "stdout",
     "output_type": "stream",
     "text": [
      "2.2.3\n"
     ]
    }
   ],
   "source": [
    "print(np.__version__)\n"
   ]
  },
  {
   "cell_type": "markdown",
   "id": "ebbdb8b7-99b6-49e2-9740-abce267c9fa4",
   "metadata": {},
   "source": [
    "3. Create a null vector of size 10 (★☆☆)"
   ]
  },
  {
   "cell_type": "code",
   "execution_count": 11,
   "id": "b9c368fd-5133-4bf7-8223-c2e6c48aecb1",
   "metadata": {},
   "outputs": [
    {
     "data": {
      "text/plain": [
       "array([0., 0., 0., 0., 0., 0., 0., 0., 0., 0.])"
      ]
     },
     "execution_count": 11,
     "metadata": {},
     "output_type": "execute_result"
    }
   ],
   "source": [
    "np.zeros(10)"
   ]
  },
  {
   "cell_type": "markdown",
   "id": "f5c93511-d833-466c-8d87-23e2d08da9f7",
   "metadata": {},
   "source": [
    "4. How to find the memory size of any array (★☆☆)"
   ]
  },
  {
   "cell_type": "code",
   "execution_count": 12,
   "id": "85a757a8-1862-4d87-b2b7-770b71eef30d",
   "metadata": {},
   "outputs": [
    {
     "data": {
      "text/plain": [
       "(10,)"
      ]
     },
     "execution_count": 12,
     "metadata": {},
     "output_type": "execute_result"
    }
   ],
   "source": [
    "np.zeros(10).shape"
   ]
  },
  {
   "cell_type": "markdown",
   "id": "618d5eac-cab3-412d-8f08-095e7d9427e5",
   "metadata": {},
   "source": [
    "5. How to get the documentation of the numpy add function from the command line? (★☆☆)"
   ]
  },
  {
   "cell_type": "code",
   "execution_count": 15,
   "id": "3487eee1-f886-41cb-87fc-a7c05357af84",
   "metadata": {},
   "outputs": [
    {
     "name": "stdout",
     "output_type": "stream",
     "text": [
      "Help on ufunc in module numpy:\n",
      "\n",
      "add = <ufunc 'add'>\n",
      "    add(x1, x2, /, out=None, *, where=True, casting='same_kind', order='K', dtype=None, subok=True[, signature])\n",
      "\n",
      "    Add arguments element-wise.\n",
      "\n",
      "    Parameters\n",
      "    ----------\n",
      "    x1, x2 : array_like\n",
      "        The arrays to be added.\n",
      "        If ``x1.shape != x2.shape``, they must be broadcastable to a common\n",
      "        shape (which becomes the shape of the output).\n",
      "    out : ndarray, None, or tuple of ndarray and None, optional\n",
      "        A location into which the result is stored. If provided, it must have\n",
      "        a shape that the inputs broadcast to. If not provided or None,\n",
      "        a freshly-allocated array is returned. A tuple (possible only as a\n",
      "        keyword argument) must have length equal to the number of outputs.\n",
      "    where : array_like, optional\n",
      "        This condition is broadcast over the input. At locations where the\n",
      "        condition is True, the `out` array will be set to the ufunc result.\n",
      "        Elsewhere, the `out` array will retain its original value.\n",
      "        Note that if an uninitialized `out` array is created via the default\n",
      "        ``out=None``, locations within it where the condition is False will\n",
      "        remain uninitialized.\n",
      "    **kwargs\n",
      "        For other keyword-only arguments, see the\n",
      "        :ref:`ufunc docs <ufuncs.kwargs>`.\n",
      "\n",
      "    Returns\n",
      "    -------\n",
      "    add : ndarray or scalar\n",
      "        The sum of `x1` and `x2`, element-wise.\n",
      "        This is a scalar if both `x1` and `x2` are scalars.\n",
      "\n",
      "    Notes\n",
      "    -----\n",
      "    Equivalent to `x1` + `x2` in terms of array broadcasting.\n",
      "\n",
      "    Examples\n",
      "    --------\n",
      "    >>> import numpy as np\n",
      "    >>> np.add(1.0, 4.0)\n",
      "    5.0\n",
      "    >>> x1 = np.arange(9.0).reshape((3, 3))\n",
      "    >>> x2 = np.arange(3.0)\n",
      "    >>> np.add(x1, x2)\n",
      "    array([[  0.,   2.,   4.],\n",
      "           [  3.,   5.,   7.],\n",
      "           [  6.,   8.,  10.]])\n",
      "\n",
      "    The ``+`` operator can be used as a shorthand for ``np.add`` on ndarrays.\n",
      "\n",
      "    >>> x1 = np.arange(9.0).reshape((3, 3))\n",
      "    >>> x2 = np.arange(3.0)\n",
      "    >>> x1 + x2\n",
      "    array([[ 0.,  2.,  4.],\n",
      "           [ 3.,  5.,  7.],\n",
      "           [ 6.,  8., 10.]])\n",
      "\n"
     ]
    }
   ],
   "source": [
    "help(np.add)"
   ]
  },
  {
   "cell_type": "markdown",
   "id": "99334283-224e-4996-974b-25744de9da47",
   "metadata": {},
   "source": [
    "6. Create a null vector of size 10 but the fifth value which is 1 (★☆☆)"
   ]
  },
  {
   "cell_type": "code",
   "execution_count": 16,
   "id": "2a0856b5-107b-49a6-b94c-a7e2d340c988",
   "metadata": {},
   "outputs": [
    {
     "name": "stdout",
     "output_type": "stream",
     "text": [
      "[0. 0. 0. 0. 1. 0. 0. 0. 0. 0.]\n"
     ]
    }
   ],
   "source": [
    "arr1 = np.zeros(10);\n",
    "arr1[4] = 1;\n",
    "print(arr1)"
   ]
  },
  {
   "cell_type": "markdown",
   "id": "16f6a2b2-fc62-46cb-b9c5-3b744876e265",
   "metadata": {},
   "source": [
    "7. Create a vector with values ranging from 10 to 49 (★☆☆)"
   ]
  },
  {
   "cell_type": "code",
   "execution_count": 17,
   "id": "0e66952e-925d-43d6-b50e-62d847981fdb",
   "metadata": {},
   "outputs": [
    {
     "name": "stdout",
     "output_type": "stream",
     "text": [
      "[10 11 12 13 14 15 16 17 18 19 20 21 22 23 24 25 26 27 28 29 30 31 32 33\n",
      " 34 35 36 37 38 39 40 41 42 43 44 45 46 47 48 49]\n"
     ]
    }
   ],
   "source": [
    "arr2 = np.arange(10,50)\n",
    "print(arr2)"
   ]
  },
  {
   "cell_type": "code",
   "execution_count": 26,
   "id": "85e45700-07c7-43e9-a398-0566f09efdf2",
   "metadata": {},
   "outputs": [
    {
     "data": {
      "text/plain": [
       "array([49, 48, 47, 46, 45, 44, 43, 42, 41, 40, 39, 38, 37, 36, 35, 34, 33,\n",
       "       32, 31, 30, 29, 28, 27, 26, 25, 24, 23, 22, 21, 20, 19, 18, 17, 16,\n",
       "       15, 14, 13, 12, 11, 10])"
      ]
     },
     "execution_count": 26,
     "metadata": {},
     "output_type": "execute_result"
    }
   ],
   "source": [
    "np.flip(arr2)"
   ]
  },
  {
   "cell_type": "markdown",
   "id": "b586c7ff-d80d-4266-a8a4-8da639414007",
   "metadata": {},
   "source": [
    "9. Create a 3x3 matrix with values ranging from 0 to 8 (★☆☆)"
   ]
  },
  {
   "cell_type": "code",
   "execution_count": 28,
   "id": "201cf191-d8c7-4ad4-b9cf-e5a84f665c6e",
   "metadata": {},
   "outputs": [
    {
     "data": {
      "text/plain": [
       "array([[0, 1, 2],\n",
       "       [3, 4, 5],\n",
       "       [6, 7, 8]])"
      ]
     },
     "execution_count": 28,
     "metadata": {},
     "output_type": "execute_result"
    }
   ],
   "source": [
    "np.arange(0,9).reshape(3,3)"
   ]
  },
  {
   "cell_type": "markdown",
   "id": "8dec26d7-5132-447b-9fa9-3f2b89918488",
   "metadata": {},
   "source": [
    "10. Find indices of non-zero elements from [1,2,0,0,4,0] (★☆☆)"
   ]
  },
  {
   "cell_type": "code",
   "execution_count": 36,
   "id": "bf856aeb-efb9-4073-9d65-75a852e9f2f7",
   "metadata": {},
   "outputs": [
    {
     "name": "stdout",
     "output_type": "stream",
     "text": [
      "Non-zero element : 0\n",
      "Non-zero element : 1\n",
      "Non-zero element : 4\n"
     ]
    }
   ],
   "source": [
    "arr = [1,2,0,0,4,0]\n",
    "for index,i in enumerate(arr):\n",
    "    if(i != 0):\n",
    "        print(\"Non-zero element :\" ,index)\n",
    "    i += 1"
   ]
  },
  {
   "cell_type": "code",
   "execution_count": 38,
   "id": "6c864604-5d19-40d8-8313-c14580e0db5c",
   "metadata": {},
   "outputs": [
    {
     "data": {
      "text/plain": [
       "(array([0, 1, 4]),)"
      ]
     },
     "execution_count": 38,
     "metadata": {},
     "output_type": "execute_result"
    }
   ],
   "source": [
    "## Another method\n",
    "np.nonzero(arr)"
   ]
  },
  {
   "cell_type": "markdown",
   "id": "b1e2ee30-290f-4393-b351-f5658d51005e",
   "metadata": {},
   "source": [
    "11. Create a 3x3 identity matrix (★☆☆)"
   ]
  },
  {
   "cell_type": "code",
   "execution_count": 40,
   "id": "2b24fe1f-3db2-4bf9-a9ba-f78d3ab716d2",
   "metadata": {},
   "outputs": [
    {
     "name": "stdout",
     "output_type": "stream",
     "text": [
      "[[1. 0. 0.]\n",
      " [0. 1. 0.]\n",
      " [0. 0. 1.]]\n"
     ]
    }
   ],
   "source": [
    "arr3 = np.eye(3)\n",
    "print(arr3)"
   ]
  },
  {
   "cell_type": "markdown",
   "id": "d707b299-88b9-4eba-98a2-2dd533c831aa",
   "metadata": {},
   "source": [
    "12. Create a 3x3x3 array with random values (★☆☆)"
   ]
  },
  {
   "cell_type": "code",
   "execution_count": 42,
   "id": "ef8e3080-0943-4161-bb2d-ae9cd1c55535",
   "metadata": {},
   "outputs": [
    {
     "name": "stdout",
     "output_type": "stream",
     "text": [
      "[[[0.81513944 0.59889927 0.8190973 ]\n",
      "  [0.91058771 0.83331536 0.98365142]\n",
      "  [0.01769431 0.99984276 0.04154518]]\n",
      "\n",
      " [[0.23569484 0.73541394 0.6553823 ]\n",
      "  [0.54514908 0.766754   0.52386723]\n",
      "  [0.26265812 0.34991973 0.75082292]]\n",
      "\n",
      " [[0.68975533 0.0868439  0.43266231]\n",
      "  [0.98811629 0.18230663 0.73620283]\n",
      "  [0.07874734 0.31234762 0.85341584]]]\n"
     ]
    }
   ],
   "source": [
    "arr4 = np.random.rand(27).reshape(3,3,3)\n",
    "print(arr4)"
   ]
  },
  {
   "cell_type": "markdown",
   "id": "55e57961-18c5-4b25-9e4b-c2ec720c19c3",
   "metadata": {},
   "source": [
    "13. Create a 10x10 array with random values and find the minimum and maximum values (★☆☆)"
   ]
  },
  {
   "cell_type": "code",
   "execution_count": 23,
   "id": "707b2c8a-5998-4657-9b15-d47b8f12fbc2",
   "metadata": {},
   "outputs": [
    {
     "name": "stdout",
     "output_type": "stream",
     "text": [
      "[[ 1 53 19 65 16 59 98 31 29 66]\n",
      " [55 82 25  8 66 11 66 91 30 94]\n",
      " [10 65 22 91 30 61 49 23 39 99]\n",
      " [58 94 96 50 71 91 82 36 16 76]\n",
      " [77 18 55 39 55 80  2 62 72 64]\n",
      " [60 25 64 81 86 94 39 30 73 82]\n",
      " [46  6 42 92 20  4 12 56  9  7]\n",
      " [93 34 62 58 17 15 17 12 31 79]\n",
      " [95 35 86 60 78 59 91 45 44 98]\n",
      " [90 45 22 87  1 70 16 26 14 31]]\n",
      "The maximum is : 99\n",
      "The maximum is : 1\n"
     ]
    }
   ],
   "source": [
    "arr5 = np.random.randint(0,101,size=100).reshape(10,10)\n",
    "print(arr5)\n",
    "print(\"The maximum is :\",np.max(arr5))\n",
    "print(\"The maximum is :\",np.min(arr5))"
   ]
  },
  {
   "cell_type": "markdown",
   "id": "cf1eec45-d01c-4da1-9131-da5203cb4d22",
   "metadata": {},
   "source": [
    "14. Create a random vector of size 30 and find the mean value (★☆☆)"
   ]
  },
  {
   "cell_type": "code",
   "execution_count": 30,
   "id": "6f6a165e-fcdb-4734-bcec-2bad1396c617",
   "metadata": {},
   "outputs": [
    {
     "name": "stdout",
     "output_type": "stream",
     "text": [
      "[311  74 708 942 954 538 882 475 525 481 279 465 260 185 162 881 191 829\n",
      " 347 518 784 976 668 755  71 165  93 139 685 876]\n",
      "507.3\n"
     ]
    }
   ],
   "source": [
    "arr6 = np.random.randint(0,1000,size=30)\n",
    "print(arr6)\n",
    "print(arr6.mean())"
   ]
  },
  {
   "cell_type": "markdown",
   "id": "a260e425-4262-46e3-8c21-62450344dc65",
   "metadata": {},
   "source": [
    "15. Create a 2d array with 1 on the border and 0 inside (★☆☆)"
   ]
  },
  {
   "cell_type": "code",
   "execution_count": 14,
   "id": "1ec2b9dd-f66a-4090-9573-1ba4cd0a8db3",
   "metadata": {},
   "outputs": [
    {
     "name": "stdout",
     "output_type": "stream",
     "text": [
      "[[1. 1. 1. 1. 1.]\n",
      " [1. 0. 0. 0. 1.]\n",
      " [1. 0. 0. 0. 1.]\n",
      " [1. 0. 0. 0. 1.]\n",
      " [1. 1. 1. 1. 1.]]\n"
     ]
    }
   ],
   "source": [
    "arr7 = np.zeros(25).reshape(5,5)\n",
    "arr7[0,:] = arr7[:, 0] = arr7[-1,:] = arr7[:,-1] = 1\n",
    "print(arr7)"
   ]
  },
  {
   "cell_type": "code",
   "execution_count": 20,
   "id": "b86c04ec-e85f-4f82-a02d-f3764e7defe2",
   "metadata": {},
   "outputs": [
    {
     "name": "stdout",
     "output_type": "stream",
     "text": [
      "[[1. 1. 1. 1. 1. 1. 1. 1. 1.]\n",
      " [1. 1. 1. 1. 1. 1. 1. 1. 1.]\n",
      " [1. 1. 0. 0. 0. 0. 0. 1. 1.]\n",
      " [1. 1. 0. 0. 0. 0. 0. 1. 1.]\n",
      " [1. 1. 0. 0. 0. 0. 0. 1. 1.]\n",
      " [1. 1. 0. 0. 0. 0. 0. 1. 1.]\n",
      " [1. 1. 0. 0. 0. 0. 0. 1. 1.]\n",
      " [1. 1. 1. 1. 1. 1. 1. 1. 1.]\n",
      " [1. 1. 1. 1. 1. 1. 1. 1. 1.]]\n"
     ]
    }
   ],
   "source": [
    "### Another way\n",
    "arr8 = np.zeros(25).reshape(5,5)\n",
    "arr8_padded = np.pad(arr8 , pad_width= 2, mode='constant',constant_values = 1)\n",
    "print(arr8_padded)"
   ]
  },
  {
   "cell_type": "markdown",
   "id": "ae2f051c-a45c-48ce-ad55-e90aee48742e",
   "metadata": {},
   "source": [
    "16. How to add a border (filled with 0's) around an existing array? (★☆☆)"
   ]
  },
  {
   "cell_type": "code",
   "execution_count": 21,
   "id": "6adeaa82-9f5f-46bb-9845-d89c0d878b46",
   "metadata": {},
   "outputs": [
    {
     "name": "stdout",
     "output_type": "stream",
     "text": [
      "[[0. 0. 0. 0. 0. 0. 0. 0. 0.]\n",
      " [0. 0. 0. 0. 0. 0. 0. 0. 0.]\n",
      " [0. 0. 1. 1. 1. 1. 1. 0. 0.]\n",
      " [0. 0. 1. 1. 1. 1. 1. 0. 0.]\n",
      " [0. 0. 1. 1. 1. 1. 1. 0. 0.]\n",
      " [0. 0. 1. 1. 1. 1. 1. 0. 0.]\n",
      " [0. 0. 1. 1. 1. 1. 1. 0. 0.]\n",
      " [0. 0. 0. 0. 0. 0. 0. 0. 0.]\n",
      " [0. 0. 0. 0. 0. 0. 0. 0. 0.]]\n"
     ]
    }
   ],
   "source": [
    "arr8 = np.ones(25).reshape(5,5)\n",
    "arr8_padded = np.pad(arr8 , pad_width= 2, mode='constant',constant_values = 0)\n",
    "print(arr8_padded)"
   ]
  },
  {
   "cell_type": "markdown",
   "id": "5e67b1c0-10da-48ff-886b-41378f6a022f",
   "metadata": {},
   "source": [
    "#### 17. What is the result of the following expression? (★☆☆)\n",
    "```python\n",
    "0 * np.nan\n",
    "np.nan == np.nan\n",
    "np.inf > np.nan\n",
    "np.nan - np.nan\n",
    "np.nan in set([np.nan])\n",
    "0.3 == 3 * 0.1\n",
    "```"
   ]
  },
  {
   "cell_type": "markdown",
   "id": "64929343-97a6-4dce-b712-a8b05d09ee34",
   "metadata": {},
   "source": [
    "`0 * np.nan = np.nan` .Not a number\n",
    "\n",
    "`np.nan + np.nan` . Any arithmetic operation with nan , will return nan .\n",
    "\n",
    "`np.nan == np.nan` . Beacuse not a number is nothing how can be they equal\n",
    "\n",
    "`np.inf > np.nan` . Not a number is not known , so it cannot be equal , larger or \n",
    "\n",
    "`np.nan in set([np.nan])` this will return true as the set onctains only one element which is not a number .\n",
    "\n",
    "`0.3 == 3 * 0.1` This will return as false no matter what"
   ]
  },
  {
   "cell_type": "markdown",
   "id": "be8c84c3-8433-4c2b-871a-72d56e9a6761",
   "metadata": {},
   "source": [
    "18. Create a 5x5 matrix with values 1,2,3,4 just below the diagonal (★☆☆)"
   ]
  },
  {
   "cell_type": "code",
   "execution_count": 5,
   "id": "75fa37b6-82b0-46b2-813a-a4e69fb39c3a",
   "metadata": {},
   "outputs": [
    {
     "name": "stdout",
     "output_type": "stream",
     "text": [
      "[[1 0 0 0 0]\n",
      " [0 2 0 0 0]\n",
      " [0 0 3 0 0]\n",
      " [0 0 0 4 0]\n",
      " [0 0 0 0 5]]\n"
     ]
    }
   ],
   "source": [
    "diag_elements = np.array([1,2,3,4,5])\n",
    "diagonal_matrix = np.diag(diag_elements)\n",
    "print(diagonal_matrix)"
   ]
  },
  {
   "cell_type": "markdown",
   "id": "b6b771b1-920d-44c2-82a1-d453981ed9d7",
   "metadata": {},
   "source": [
    "19. Create a 8x8 matrix and fill it with a checkerboard pattern (★☆☆)"
   ]
  },
  {
   "cell_type": "code",
   "execution_count": 10,
   "id": "42e6434f-0261-43d4-8896-c1573c8585cc",
   "metadata": {},
   "outputs": [
    {
     "data": {
      "text/plain": [
       "array([[0, 1, 0, 1, 0, 1, 0, 1],\n",
       "       [1, 0, 1, 0, 1, 0, 1, 0],\n",
       "       [0, 1, 0, 1, 0, 1, 0, 1],\n",
       "       [1, 0, 1, 0, 1, 0, 1, 0],\n",
       "       [0, 1, 0, 1, 0, 1, 0, 1],\n",
       "       [1, 0, 1, 0, 1, 0, 1, 0],\n",
       "       [0, 1, 0, 1, 0, 1, 0, 1],\n",
       "       [1, 0, 1, 0, 1, 0, 1, 0]])"
      ]
     },
     "execution_count": 10,
     "metadata": {},
     "output_type": "execute_result"
    }
   ],
   "source": [
    "arr8 = np.zeros((8, 8), dtype=int)\n",
    "arr8[::2,1::2] = 1\n",
    "arr8[1::2, ::2] = 1\n",
    "arr8"
   ]
  },
  {
   "cell_type": "markdown",
   "id": "91d81d59-7926-45cc-9590-4336dd434890",
   "metadata": {},
   "source": [
    "20. Consider a (6,7,8) shape array, what is the index (x,y,z) of the 100th element?\n",
    "    \n",
    "    Ans : `arr9[5,6,7]`"
   ]
  },
  {
   "cell_type": "code",
   "execution_count": 13,
   "id": "3f93617f-91cb-461f-8af0-32a84aeae9fe",
   "metadata": {},
   "outputs": [
    {
     "name": "stdout",
     "output_type": "stream",
     "text": [
      "[[[368 385 954 611 284 576 376 879]\n",
      "  [ 16 255 903 861 953 630 720 993]\n",
      "  [720 711 630 945 538 907  15 339]\n",
      "  [654 812 576 589 785 214  48 587]\n",
      "  [ 21 380  21 297 442 115  79 951]\n",
      "  [886 245  38 677 224 594 606 426]\n",
      "  [387 600 384 293 250 596 408 757]]\n",
      "\n",
      " [[181 166 986 510 372 464 604 422]\n",
      "  [646 254 626 448 895 738 502 742]\n",
      "  [185 913 680 531 255 731 801 592]\n",
      "  [150 767 184 368 274 923 562 287]\n",
      "  [910 363 668  48 670 370 657 965]\n",
      "  [155 450 520 104 484 769 567 789]\n",
      "  [712 620 856 409 425 147  17 751]]\n",
      "\n",
      " [[657 710 163 656 123 819 358 581]\n",
      "  [ 19 697 799 234 352 291 645 677]\n",
      "  [765 576 693 287 301 284 495 332]\n",
      "  [329 594  84 306 903 799 245 843]\n",
      "  [714 928 185 373 181 572 994 317]\n",
      "  [ 13 456 426 180 473 579 284 635]\n",
      "  [692 309 169 738 910 740 502 496]]\n",
      "\n",
      " [[407 827 902 736 568 680 966  84]\n",
      "  [648 133 727 290 139 168 300 333]\n",
      "  [908 959 437 217 930 696 291 359]\n",
      "  [192 699  39 968 757 250 701 205]\n",
      "  [133  91 777  69 934 220 251  18]\n",
      "  [792 204 519 214 623 523 190 996]\n",
      "  [699 916  55 524 872  84 282 246]]\n",
      "\n",
      " [[ 24 688 160 876 742 648 254 842]\n",
      "  [886 336 793 497 366 875  41 721]\n",
      "  [ 51 414 357   9 145 706 879 358]\n",
      "  [369 774 343 130 287 682 819 629]\n",
      "  [392 801 136 396 568 642 361  86]\n",
      "  [ 76 351 655 818 882 447 223 586]\n",
      "  [421 311 690 505 316 410 585 866]]\n",
      "\n",
      " [[453 722 365 606 593 320 516  23]\n",
      "  [ 96 980 101 826 864 989 879 761]\n",
      "  [155 170 490 761 301 814 361  61]\n",
      "  [675 412 444 111 116 629 216 297]\n",
      "  [679 821 811 785 378 839 480 812]\n",
      "  [539 760 135 862 955 304 672 608]\n",
      "  [442 980 145 634 482 272 288  47]]]\n"
     ]
    },
    {
     "data": {
      "text/plain": [
       "np.int32(47)"
      ]
     },
     "execution_count": 13,
     "metadata": {},
     "output_type": "execute_result"
    }
   ],
   "source": [
    "arr9 = np.random.randint(0,1000,size=(6,7,8))\n",
    "print(arr9)\n",
    "arr9[5,6,7]"
   ]
  },
  {
   "cell_type": "markdown",
   "id": "13ab2512-3119-4890-91f1-a8bbfec58103",
   "metadata": {},
   "source": [
    "#### 21. Create a checkerboard 8x8 matrix using the tile function (★☆☆)"
   ]
  },
  {
   "cell_type": "code",
   "execution_count": 2,
   "id": "7ca050b9-274a-4a87-93b0-95be2b3fc1cf",
   "metadata": {},
   "outputs": [
    {
     "name": "stdout",
     "output_type": "stream",
     "text": [
      "[[0 1 0 1 0 1 0 1]\n",
      " [1 0 1 0 1 0 1 0]\n",
      " [0 1 0 1 0 1 0 1]\n",
      " [1 0 1 0 1 0 1 0]\n",
      " [0 1 0 1 0 1 0 1]\n",
      " [1 0 1 0 1 0 1 0]\n",
      " [0 1 0 1 0 1 0 1]\n",
      " [1 0 1 0 1 0 1 0]]\n"
     ]
    }
   ],
   "source": [
    "checkerboard = np.zeros((8, 8), dtype=int)\n",
    "\n",
    "checkerboard[1::2, ::2] = 1  # Rows starting from index 1, step 2; Columns starting from index 0, step 2\n",
    "checkerboard[::2, 1::2] = 1  # Rows starting from index 0, step 2; Columns starting from index 1, step 2\n",
    "\n",
    "print(checkerboard)"
   ]
  },
  {
   "cell_type": "markdown",
   "id": "e56f35f4-4468-4623-b1c6-653800af5430",
   "metadata": {},
   "source": [
    "#### 22. Normalize a 5x5 random matrix (★☆☆)"
   ]
  },
  {
   "cell_type": "code",
   "execution_count": 5,
   "id": "a9527df7-e361-4be6-9875-d2d31ed8be97",
   "metadata": {},
   "outputs": [
    {
     "data": {
      "text/plain": [
       "array([[0.32719717, 0.73658809, 0.04070752, 0.51660456, 0.60844095],\n",
       "       [0.17428537, 0.40756723, 0.65639266, 0.61666298, 0.50760192],\n",
       "       [0.15474074, 0.26546077, 0.37039086, 0.18045912, 0.21654826],\n",
       "       [0.33083963, 0.24082302, 0.02853886, 0.18476791, 0.55204375],\n",
       "       [0.8539128 , 0.40356139, 0.65535313, 0.53492226, 0.14315881]])"
      ]
     },
     "execution_count": 5,
     "metadata": {},
     "output_type": "execute_result"
    }
   ],
   "source": [
    "matrix = np.random.rand(5, 5)\n",
    "row_norms = np.linalg.norm(matrix , axis = 0 , keepdims= True)\n",
    "matrix_normalize = matrix/row_norms\n",
    "matrix_normalize"
   ]
  },
  {
   "cell_type": "markdown",
   "id": "1cc3bc59-8d41-4043-9e5e-572e0e88a808",
   "metadata": {},
   "source": [
    "#### 23. Create a custom dtype that describes a color as four unsigned bytes (RGBA) (★☆☆)"
   ]
  },
  {
   "cell_type": "markdown",
   "id": "0e7e2229-a6f2-4d58-b775-f910426564db",
   "metadata": {},
   "source": [
    "#### 24. Multiply a 5x3 matrix by a 3x2 matrix (real matrix product) (★☆☆)"
   ]
  },
  {
   "cell_type": "code",
   "execution_count": 6,
   "id": "88f8843b-e94c-46a3-9e98-5ab8ecb26c15",
   "metadata": {},
   "outputs": [
    {
     "name": "stdout",
     "output_type": "stream",
     "text": [
      "Matrix A (5x3):\n",
      " [[2 4 9]\n",
      " [5 2 7]\n",
      " [7 5 4]\n",
      " [2 6 9]\n",
      " [9 7 3]]\n",
      "\n",
      "Matrix B (3x2):\n",
      " [[5 4]\n",
      " [5 8]\n",
      " [2 6]]\n",
      "\n",
      "Resultant Matrix (5x2):\n",
      " [[ 48  94]\n",
      " [ 49  78]\n",
      " [ 68  92]\n",
      " [ 58 110]\n",
      " [ 86 110]]\n"
     ]
    }
   ],
   "source": [
    "A = np.random.randint(1, 10, (5, 3))\n",
    "\n",
    "B = np.random.randint(1, 10, (3, 2))\n",
    "\n",
    "result = np.dot(A, B)  # or A @ B\n",
    "\n",
    "print(\"Matrix A (5x3):\\n\", A)\n",
    "print(\"\\nMatrix B (3x2):\\n\", B)\n",
    "print(\"\\nResultant Matrix (5x2):\\n\", result)"
   ]
  },
  {
   "cell_type": "markdown",
   "id": "c787275b-7130-4005-a35f-d50a06cbaf97",
   "metadata": {},
   "source": [
    "#### 25. Given a 1D array, negate all elements which are between 3 and 8, in place. (★☆☆)"
   ]
  },
  {
   "cell_type": "code",
   "execution_count": 10,
   "id": "e2ec0954-b4c8-4ff4-8265-bded21e72194",
   "metadata": {},
   "outputs": [
    {
     "data": {
      "text/plain": [
       "array([-3,  9, 10,  9, -7, -7,  2,  9, -7,  1], dtype=int32)"
      ]
     },
     "execution_count": 10,
     "metadata": {},
     "output_type": "execute_result"
    }
   ],
   "source": [
    "arr = np.random.randint(1,11,size=(10))\n",
    "arr[(arr>=3) & (arr<=8)] *= -1\n",
    "arr"
   ]
  },
  {
   "cell_type": "markdown",
   "id": "3c716270-c0fc-485a-a78e-97d7f468bacd",
   "metadata": {},
   "source": [
    "#### 26. What is the output of the following script? (★☆☆)\n",
    "```python\n",
    "# Author: Jake VanderPlas\n",
    "\n",
    "print(sum(range(5),-1))\n",
    "from numpy import *\n",
    "print(sum(range(5),-1))\n",
    "```"
   ]
  },
  {
   "cell_type": "markdown",
   "id": "43cb84af-5fa1-4687-a755-ba8fbf44b1ef",
   "metadata": {},
   "source": [
    "* `from numpy import *` this line is importing all the things from numpy in the current thing , so i dont have to write np.something\n",
    "* for the second numpy array , the -1 refers to the `axis = -1`\n",
    "* and in the firdt normal array the -1 refers to the predecence before the sum , so before the summation there will be -1"
   ]
  },
  {
   "cell_type": "markdown",
   "id": "ed3e2e8f-37bc-442f-9eea-d22d6354fcac",
   "metadata": {},
   "source": [
    "#### 27. Consider an integer vector Z, which of these expressions are legal? (★☆☆)\n",
    "```python\n",
    "Z**Z ## yes\n",
    "2 << Z >> 2 ## (2 * 2^z )/2^2\n",
    "Z <- Z ##invalid\n",
    "1j*Z ## complex\n",
    "Z/1/1 ##double division\n",
    "Z<Z>Z ##invalid\n",
    "```"
   ]
  },
  {
   "cell_type": "markdown",
   "id": "d6267e07-1809-4108-b58d-6b645b7c74fc",
   "metadata": {},
   "source": [
    "#### 28. What are the result of the following expressions?\n",
    "```python\n",
    "np.array(0) / np.array(0) ##nan\n",
    "np.array(0) // np.array(0) ##nan\n",
    "np.array([np.nan]).astype(int).astype(float) "
   ]
  },
  {
   "cell_type": "code",
   "execution_count": 13,
   "id": "48582d26-20e5-4a52-b824-d941af0ace93",
   "metadata": {},
   "outputs": [
    {
     "name": "stderr",
     "output_type": "stream",
     "text": [
      "C:\\Users\\ANKUSH GHOSH\\AppData\\Local\\Temp\\ipykernel_20868\\3939184219.py:1: RuntimeWarning: invalid value encountered in cast\n",
      "  np.array([np.nan]).astype(int).astype(float)\n"
     ]
    },
    {
     "data": {
      "text/plain": [
       "array([-9.22337204e+18])"
      ]
     },
     "execution_count": 13,
     "metadata": {},
     "output_type": "execute_result"
    }
   ],
   "source": [
    "np.array([np.nan]).astype(int).astype(float) "
   ]
  },
  {
   "cell_type": "markdown",
   "id": "c67e8e56-7c91-4a50-9168-a5de7768ad2a",
   "metadata": {},
   "source": [
    "#### 29. How to round away from zero a float array ? (★☆☆)"
   ]
  },
  {
   "cell_type": "code",
   "execution_count": 14,
   "id": "b4c09f57-7cfd-4b3f-ad12-630962a3c493",
   "metadata": {},
   "outputs": [
    {
     "name": "stdout",
     "output_type": "stream",
     "text": [
      "[-2. -1.  1.  2.  3. -3.]\n"
     ]
    }
   ],
   "source": [
    "arr = np.array([-1.5, -0.7, 0.3, 1.2, 2.8, -2.3])\n",
    "rounded = np.copysign(np.ceil(np.abs(arr)), arr)\n",
    "print(rounded)"
   ]
  },
  {
   "cell_type": "markdown",
   "id": "d3addbc8-5cd3-4813-97f1-93b2500f5dd0",
   "metadata": {},
   "source": [
    "#### 30. How to find common values between two arrays? (★☆☆)\n"
   ]
  },
  {
   "cell_type": "code",
   "execution_count": 15,
   "id": "0cd08d82-edac-43b1-a175-6293a62d660e",
   "metadata": {},
   "outputs": [
    {
     "data": {
      "text/plain": [
       "array([3, 4], dtype=int32)"
      ]
     },
     "execution_count": 15,
     "metadata": {},
     "output_type": "execute_result"
    }
   ],
   "source": [
    "arr1 = np.random.randint(1,5,size=5)\n",
    "arr2 = np.random.randint(3,10,size=5)\n",
    "np.intersect1d(arr1,arr2)"
   ]
  },
  {
   "cell_type": "markdown",
   "id": "d84b2488-651e-4708-8688-e88aea75071f",
   "metadata": {},
   "source": [
    "#### 36. Extract the integer part of a random array of positive numbers using 4 different methods (★★☆)"
   ]
  },
  {
   "cell_type": "code",
   "execution_count": 19,
   "id": "c243e99e-ae05-42bc-80a2-235c0830d147",
   "metadata": {},
   "outputs": [
    {
     "name": "stdout",
     "output_type": "stream",
     "text": [
      "[2.65978654 3.81049466 1.43476085 0.52756843 4.17001829 0.76857396\n",
      " 4.86639412 3.25155291 2.7746502  1.50644459 2.67390163 0.04018802\n",
      " 2.59857235 2.92373469 2.84419044 3.11067325 3.39189738 2.96701139\n",
      " 0.81042448 4.50673235]\n",
      "[2. 3. 1. 0. 4. 0. 4. 3. 2. 1. 2. 0. 2. 2. 2. 3. 3. 2. 0. 4.]\n",
      "[3. 4. 2. 1. 5. 1. 5. 4. 3. 2. 3. 1. 3. 3. 3. 4. 4. 3. 1. 5.]\n",
      "[2 3 1 0 4 0 4 3 2 1 2 0 2 2 2 3 3 2 0 4]\n",
      "[2. 3. 1. 0. 4. 0. 4. 3. 2. 1. 2. 0. 2. 2. 2. 3. 3. 2. 0. 4.]\n"
     ]
    }
   ],
   "source": [
    "arr1 = np.random.rand(20) * 5\n",
    "print(arr1)\n",
    "print(np.floor(arr1))\n",
    "print(np.ceil(arr1))\n",
    "print(arr1.astype(int))\n",
    "print(arr1 // 1)"
   ]
  },
  {
   "cell_type": "markdown",
   "id": "dabcf88a-ab1a-420f-8451-074efc8db024",
   "metadata": {},
   "source": [
    "#### 37. Create a 5x5 matrix with row values ranging from 0 to 4 (★★☆)"
   ]
  },
  {
   "cell_type": "code",
   "execution_count": 30,
   "id": "8e493754-f3c9-4aad-bf63-48b63a51b7d8",
   "metadata": {},
   "outputs": [
    {
     "name": "stdout",
     "output_type": "stream",
     "text": [
      "[[0. 1. 2. 3. 4.]\n",
      " [0. 1. 2. 3. 4.]\n",
      " [0. 1. 2. 3. 4.]\n",
      " [0. 1. 2. 3. 4.]\n",
      " [0. 1. 2. 3. 4.]]\n"
     ]
    }
   ],
   "source": [
    "arr2 = np.zeros(25).reshape(5,5)\n",
    "arr2[0,] = np.arange(0,5)\n",
    "arr2[1,] = np.arange(0,5)\n",
    "arr2[2,] = np.arange(0,5)\n",
    "arr2[3,] = np.arange(0,5)\n",
    "arr2[4,] = np.arange(0,5)\n",
    "arr2.astype(int)\n",
    "print(arr2)"
   ]
  },
  {
   "cell_type": "code",
   "execution_count": 32,
   "id": "976f97b4-e73c-4d6a-9507-994044a29d98",
   "metadata": {},
   "outputs": [],
   "source": [
    "arr0 = np.array([\n",
    "    [1,2,3],\n",
    "    [4,5,6],\n",
    "    [7,8,9]\n",
    "])"
   ]
  },
  {
   "cell_type": "code",
   "execution_count": 34,
   "id": "1cab7a61-007c-44d9-a24f-b4b7ee2d8b5e",
   "metadata": {},
   "outputs": [
    {
     "data": {
      "text/plain": [
       "array([[1, 2, 3],\n",
       "       [4, 5, 6],\n",
       "       [7, 8, 9],\n",
       "       [1, 2, 3],\n",
       "       [4, 5, 6],\n",
       "       [7, 8, 9]])"
      ]
     },
     "execution_count": 34,
     "metadata": {},
     "output_type": "execute_result"
    }
   ],
   "source": [
    "np.tile(arr0 ,(2,1))"
   ]
  },
  {
   "cell_type": "markdown",
   "id": "de6493c1-2402-4fc8-8b3b-dfcd9ae0bfb9",
   "metadata": {},
   "source": [
    "Method 2"
   ]
  },
  {
   "cell_type": "code",
   "execution_count": 36,
   "id": "37c78375-f35b-4eee-851e-d83aa4322f8c",
   "metadata": {},
   "outputs": [
    {
     "data": {
      "text/plain": [
       "array([[0, 1, 2, 3, 4],\n",
       "       [0, 1, 2, 3, 4],\n",
       "       [0, 1, 2, 3, 4],\n",
       "       [0, 1, 2, 3, 4],\n",
       "       [0, 1, 2, 3, 4]])"
      ]
     },
     "execution_count": 36,
     "metadata": {},
     "output_type": "execute_result"
    }
   ],
   "source": [
    "arr1 = np.arange(0,5)\n",
    "np.tile(arr1,(5,1))"
   ]
  },
  {
   "cell_type": "code",
   "execution_count": 50,
   "id": "3220bea5-b095-4279-824a-5802312403e8",
   "metadata": {},
   "outputs": [
    {
     "data": {
      "text/plain": [
       "array([[0, 1, 2, 3, 4],\n",
       "       [0, 1, 2, 3, 4],\n",
       "       [0, 1, 2, 3, 4],\n",
       "       [0, 1, 2, 3, 4],\n",
       "       [0, 1, 2, 3, 4]])"
      ]
     },
     "execution_count": 50,
     "metadata": {},
     "output_type": "execute_result"
    }
   ],
   "source": [
    "arr2 = np.arange(5).reshape(1, 5)\n",
    "arr3 = np.repeat(arr2 ,5, axis=0)\n",
    "arr3"
   ]
  },
  {
   "cell_type": "markdown",
   "id": "6bbb3800-8020-4092-a937-e39a9989761a",
   "metadata": {},
   "source": [
    "#### 38. Consider a generator function that generates 10 integers and use it to build an array (★☆☆)"
   ]
  },
  {
   "cell_type": "code",
   "execution_count": 64,
   "id": "8c10aed4-bde1-4b6d-b5b3-88d446c23054",
   "metadata": {},
   "outputs": [
    {
     "name": "stdout",
     "output_type": "stream",
     "text": [
      "[2 8 0]\n",
      "[[0.69430534 0.22765625 0.11745918]\n",
      " [0.08719539 0.77076218 0.86574482]]\n",
      "[[-0.70914522  0.39748152 -1.20228278]\n",
      " [ 0.93219408 -1.26515142  1.16107096]\n",
      " [ 0.76393593  0.86312417  0.40584552]]\n"
     ]
    }
   ],
   "source": [
    "from numpy.random import PCG64\n",
    "\n",
    "rng = np.random.default_rng(PCG64())\n",
    "\n",
    "arr1 = rng.integers(low=0, high=10, size=3)\n",
    "print(arr1)\n",
    "arr2 = rng.random(size=(2,3))\n",
    "print(arr2)\n",
    "arr3 = rng.normal(size=(3,3)) #uses the normal distribution\n",
    "print(arr3)"
   ]
  },
  {
   "cell_type": "markdown",
   "id": "ef919249-bc91-479b-9c88-53c204b5725f",
   "metadata": {},
   "source": [
    "#### 39. Create a vector of size 10 with values ranging from 0 to 1, both excluded (★★☆)"
   ]
  },
  {
   "cell_type": "code",
   "execution_count": 68,
   "id": "dd67fcff-54ca-42b4-a5da-45c22fbc0763",
   "metadata": {},
   "outputs": [
    {
     "name": "stdout",
     "output_type": "stream",
     "text": [
      "[0.40115258 0.7228327  0.3630657  0.14288561 0.54714773 0.46336289\n",
      " 0.04241438 0.41531185 0.48929442 0.184244  ]\n"
     ]
    }
   ],
   "source": [
    "rng = np.random.default_rng(PCG64())\n",
    "v = rng.uniform(low=0,high=1,size = 10)\n",
    "print(v)"
   ]
  },
  {
   "cell_type": "markdown",
   "id": "f754f51c-6b0b-4e50-8c10-4f46d9e8b3f5",
   "metadata": {},
   "source": [
    "#### 40. Create a random vector of size 10 and sort it (★★☆)"
   ]
  },
  {
   "cell_type": "code",
   "execution_count": 72,
   "id": "3e496352-1782-418d-b829-ac7c15542737",
   "metadata": {},
   "outputs": [
    {
     "data": {
      "text/plain": [
       "array([13, 22, 32, 38, 52, 56, 77, 84, 95, 95])"
      ]
     },
     "execution_count": 72,
     "metadata": {},
     "output_type": "execute_result"
    }
   ],
   "source": [
    "rng = np.random.default_rng(PCG64(seed =1))\n",
    "v = rng.integers(low=10,high=100,size = 10)\n",
    "np.sort(v)"
   ]
  },
  {
   "cell_type": "markdown",
   "id": "e0d6c1d7-4ba4-42dc-af0c-6efe301a47d9",
   "metadata": {},
   "source": [
    "#### 41. How to sum a small array faster than np.sum? (★★☆)"
   ]
  },
  {
   "cell_type": "code",
   "execution_count": 6,
   "id": "214f44ee-5a73-41b8-9059-26a86d75bdab",
   "metadata": {},
   "outputs": [
    {
     "name": "stdout",
     "output_type": "stream",
     "text": [
      "15\n",
      "15\n",
      "15\n",
      "15\n"
     ]
    }
   ],
   "source": [
    "arr = np.array([1,2,3,4,5])\n",
    "# for small arrays use : \n",
    "print(sum(arr))\n",
    "# for slightly bigger arrays use : \n",
    "print(arr.sum())\n",
    "print(np.add.reduce(arr))\n",
    "# for bigger arrays use : \n",
    "print(np.sum(arr))"
   ]
  },
  {
   "cell_type": "markdown",
   "id": "105b813b-4b19-4b3e-bad2-8b84a475a917",
   "metadata": {},
   "source": [
    "#### 42. Consider two random array A and B, check if they are equal (★★☆)"
   ]
  },
  {
   "cell_type": "code",
   "execution_count": 14,
   "id": "5a95a3ee-dbf1-4abb-a40f-d4d2b8eff288",
   "metadata": {},
   "outputs": [
    {
     "name": "stdout",
     "output_type": "stream",
     "text": [
      "[False False False False False]\n",
      "False\n"
     ]
    }
   ],
   "source": [
    "a = np.array([2,3,4,5,6])\n",
    "b = np.array([4,5,6,7,8])\n",
    "# if we use relational operates then it will gives us A array of booleans\n",
    "print(a == b)\n",
    "# using .array_equal()\n",
    "print(np.array_equal(a,b))"
   ]
  },
  {
   "cell_type": "markdown",
   "id": "6687cf0a-44f6-4c1e-b82f-c268b585ea19",
   "metadata": {},
   "source": [
    "#### 43. Make an array immutable (read-only) (★★☆)"
   ]
  },
  {
   "cell_type": "code",
   "execution_count": 13,
   "id": "41d07261-3525-438c-a90a-9b5022d34201",
   "metadata": {},
   "outputs": [
    {
     "ename": "ValueError",
     "evalue": "assignment destination is read-only",
     "output_type": "error",
     "traceback": [
      "\u001b[31m---------------------------------------------------------------------------\u001b[39m",
      "\u001b[31mValueError\u001b[39m                                Traceback (most recent call last)",
      "\u001b[36mCell\u001b[39m\u001b[36m \u001b[39m\u001b[32mIn[13]\u001b[39m\u001b[32m, line 4\u001b[39m\n\u001b[32m      2\u001b[39m a[\u001b[32m2\u001b[39m] = \u001b[32m5\u001b[39m\n\u001b[32m      3\u001b[39m a.setflags(write= \u001b[38;5;28;01mFalse\u001b[39;00m)\n\u001b[32m----> \u001b[39m\u001b[32m4\u001b[39m \u001b[43ma\u001b[49m\u001b[43m[\u001b[49m\u001b[32;43m2\u001b[39;49m\u001b[43m]\u001b[49m = \u001b[32m5\u001b[39m\n",
      "\u001b[31mValueError\u001b[39m: assignment destination is read-only"
     ]
    }
   ],
   "source": [
    "a = np.array([1,2,3,4])\n",
    "a[2] = 5\n",
    "a.setflags(write= False)\n",
    "a[2] = 5"
   ]
  },
  {
   "cell_type": "markdown",
   "id": "b5b0bdc4-2447-4a6d-bc70-ed55525dda03",
   "metadata": {},
   "source": [
    "#### 44. Consider a random 10x2 matrix representing cartesian coordinates, convert them to polar coordinates (★★☆)"
   ]
  },
  {
   "cell_type": "code",
   "execution_count": 22,
   "id": "14bcad33-34d2-46e7-9df7-2accf603a20d",
   "metadata": {},
   "outputs": [
    {
     "name": "stdout",
     "output_type": "stream",
     "text": [
      "[[8.90224691e+01 1.54832820e+00]\n",
      " [8.45281018e+01 1.90435115e-01]\n",
      " [1.17413798e+02 7.61306440e-01]\n",
      " [5.88217647e+01 6.16296937e-01]\n",
      " [7.00285656e+01 1.54223267e+00]\n",
      " [8.43800924e+01 1.02224692e+00]\n",
      " [5.86003413e+01 1.13004548e+00]\n",
      " [2.12132034e+01 1.41897055e-01]\n",
      " [9.91261822e+01 1.03037683e+00]\n",
      " [9.56347217e+01 1.15276126e-01]]\n"
     ]
    }
   ],
   "source": [
    "cartesian = np.random.randint(1,100,size=(10,2))\n",
    "x = cartesian[:,0]\n",
    "y=cartesian [:,1]\n",
    "r = np.hypot(x,y)\n",
    "theta = np.arctan2(y,x)\n",
    "polar = np.column_stack((r,theta))\n",
    "print(polar)"
   ]
  },
  {
   "cell_type": "markdown",
   "id": "8dd0899c-7c61-41ac-9f25-89ffbe15e48a",
   "metadata": {},
   "source": [
    "#### 45. Create random vector of size 10 and replace the maximum value by 0 (★★☆)"
   ]
  },
  {
   "cell_type": "code",
   "execution_count": 31,
   "id": "452bfaa1-6121-41e4-9972-6404ce3e0103",
   "metadata": {},
   "outputs": [
    {
     "name": "stdout",
     "output_type": "stream",
     "text": [
      "[ 0 33 57 51 11 15 79 52 87  6]\n"
     ]
    }
   ],
   "source": [
    "arr = np.random.randint(1,100,size=10)\n",
    "index = np.where(arr == np.max(arr))\n",
    "arr[index] = 0\n",
    "print(arr)"
   ]
  },
  {
   "cell_type": "markdown",
   "id": "2e30b4ca-950e-48c7-9b51-98b89d8ecea2",
   "metadata": {},
   "source": [
    "#### 46. Create a structured array with `x` and `y` coordinates covering the [0,1]x[0,1] area (★★☆)"
   ]
  },
  {
   "cell_type": "markdown",
   "id": "d6a39ef3-b51b-486d-bf49-093aa3ad2a84",
   "metadata": {},
   "source": [
    "#### 47. Given two arrays, X and Y, construct the Cauchy matrix C (Cij =1/(xi - yj))"
   ]
  },
  {
   "cell_type": "markdown",
   "id": "cd2e7671-c9e4-4f97-ad2b-edc6d875f35e",
   "metadata": {},
   "source": [
    "#### 48. Print the minimum and maximum representable value for each numpy scalar type (★★☆)"
   ]
  },
  {
   "cell_type": "code",
   "execution_count": 33,
   "id": "4fcbb07f-31c3-4149-88e7-d5ce6a6a9735",
   "metadata": {},
   "outputs": [
    {
     "name": "stdout",
     "output_type": "stream",
     "text": [
      "Signed Integer Types:\n",
      "int8 Min: -128 Max: 127\n",
      "int16 Min: -32768 Max: 32767\n",
      "int32 Min: -2147483648 Max: 2147483647\n",
      "int64 Min: -9223372036854775808 Max: 9223372036854775807\n"
     ]
    }
   ],
   "source": [
    "int_types = [np.int8, np.int16, np.int32, np.int64]\n",
    "\n",
    "print(\"Signed Integer Types:\")\n",
    "for dtype in int_types:\n",
    "    print(dtype.__name__, \"Min:\", np.iinfo(dtype).min, \"Max:\", np.iinfo(dtype).max)"
   ]
  },
  {
   "cell_type": "markdown",
   "id": "0ac60623-55a3-412d-88c0-dd1ee84faead",
   "metadata": {},
   "source": [
    "#### 49. How to print all the values of an array? (★★☆)"
   ]
  },
  {
   "cell_type": "code",
   "execution_count": 39,
   "id": "e7643ff1-11b0-4865-ad58-e4646de4717c",
   "metadata": {},
   "outputs": [
    {
     "name": "stdout",
     "output_type": "stream",
     "text": [
      "[  1   2   3   4   5   6   7   8   9  10  11  12  13  14  15  16  17  18\n",
      "  19  20  21  22  23  24  25  26  27  28  29  30  31  32  33  34  35  36\n",
      "  37  38  39  40  41  42  43  44  45  46  47  48  49  50  51  52  53  54\n",
      "  55  56  57  58  59  60  61  62  63  64  65  66  67  68  69  70  71  72\n",
      "  73  74  75  76  77  78  79  80  81  82  83  84  85  86  87  88  89  90\n",
      "  91  92  93  94  95  96  97  98  99 100 101 102 103 104 105 106 107 108\n",
      " 109 110 111 112 113 114 115 116 117 118 119 120 121 122 123 124 125 126\n",
      " 127 128 129 130 131 132 133 134 135 136 137 138 139 140 141 142 143 144\n",
      " 145 146 147 148 149 150 151 152 153 154 155 156 157 158 159 160 161 162\n",
      " 163 164 165 166 167 168 169 170 171 172 173 174 175 176 177 178 179 180\n",
      " 181 182 183 184 185 186 187 188 189 190 191 192 193 194 195 196 197 198\n",
      " 199 200 201 202 203 204 205 206 207 208 209 210 211 212 213 214 215 216\n",
      " 217 218 219 220 221 222 223 224 225 226 227 228 229 230 231 232 233 234\n",
      " 235 236 237 238 239 240 241 242 243 244 245 246 247 248 249 250 251 252\n",
      " 253 254 255 256 257 258 259 260 261 262 263 264 265 266 267 268 269 270\n",
      " 271 272 273 274 275 276 277 278 279 280 281 282 283 284 285 286 287 288\n",
      " 289 290 291 292 293 294 295 296 297 298 299 300 301 302 303 304 305 306\n",
      " 307 308 309 310 311 312 313 314 315 316 317 318 319 320 321 322 323 324\n",
      " 325 326 327 328 329 330 331 332 333 334 335 336 337 338 339 340 341 342\n",
      " 343 344 345 346 347 348 349 350 351 352 353 354 355 356 357 358 359 360\n",
      " 361 362 363 364 365 366 367 368 369 370 371 372 373 374 375 376 377 378\n",
      " 379 380 381 382 383 384 385 386 387 388 389 390 391 392 393 394 395 396\n",
      " 397 398 399 400 401 402 403 404 405 406 407 408 409 410 411 412 413 414\n",
      " 415 416 417 418 419 420 421 422 423 424 425 426 427 428 429 430 431 432\n",
      " 433 434 435 436 437 438 439 440 441 442 443 444 445 446 447 448 449 450\n",
      " 451 452 453 454 455 456 457 458 459 460 461 462 463 464 465 466 467 468\n",
      " 469 470 471 472 473 474 475 476 477 478 479 480 481 482 483 484 485 486\n",
      " 487 488 489 490 491 492 493 494 495 496 497 498 499]\n"
     ]
    }
   ],
   "source": [
    "arr = np.arange(1,500)\n",
    "np.set_printoptions(threshold = np.inf) ## Disable truncation\n",
    "print(arr)"
   ]
  },
  {
   "cell_type": "markdown",
   "id": "61b37310-0fa6-4ee3-a0f1-fd3fc83c4b80",
   "metadata": {},
   "source": [
    "#### 50. How to find the closest value (to a given scalar) in a vector? (★★☆)"
   ]
  },
  {
   "cell_type": "code",
   "execution_count": 40,
   "id": "091cb24d-bfee-4b18-b2f0-8a89ebf768df",
   "metadata": {},
   "outputs": [
    {
     "name": "stdout",
     "output_type": "stream",
     "text": [
      "Array: [80 25 19 68  7 61 39 90 19  1]\n",
      "Closest value to 50 is: 61\n"
     ]
    }
   ],
   "source": [
    "arr = np.random.randint(1, 100, size=10)  # Random array\n",
    "scalar = 50  # Given value\n",
    "closest_value = sorted(arr, key=lambda x: abs(x - scalar))[0]\n",
    "print(\"Array:\", arr)\n",
    "print(\"Closest value to\", scalar, \"is:\", closest_value)"
   ]
  },
  {
   "cell_type": "code",
   "execution_count": null,
   "id": "56a94883-1d56-4edd-a7df-2c37c57597e8",
   "metadata": {},
   "outputs": [],
   "source": []
  }
 ],
 "metadata": {
  "kernelspec": {
   "display_name": "Python 3 (ipykernel)",
   "language": "python",
   "name": "python3"
  },
  "language_info": {
   "codemirror_mode": {
    "name": "ipython",
    "version": 3
   },
   "file_extension": ".py",
   "mimetype": "text/x-python",
   "name": "python",
   "nbconvert_exporter": "python",
   "pygments_lexer": "ipython3",
   "version": "3.13.2"
  }
 },
 "nbformat": 4,
 "nbformat_minor": 5
}
